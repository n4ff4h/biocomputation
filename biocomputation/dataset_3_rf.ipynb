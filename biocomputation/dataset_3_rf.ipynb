{
 "cells": [
  {
   "cell_type": "code",
   "metadata": {
    "ExecuteTime": {
     "end_time": "2024-07-28T20:07:40.334634Z",
     "start_time": "2024-07-28T20:05:45.738293Z"
    }
   },
   "source": [
    "from matplotlib import pyplot as plt\n",
    "import pandas as pd\n",
    "import numpy as np\n",
    "from icecream import ic\n",
    "from sklearn.ensemble import RandomForestClassifier\n",
    "\n",
    "from sklearn.metrics import classification_report, accuracy_score, confusion_matrix, ConfusionMatrixDisplay\n",
    "from sklearn.model_selection import GridSearchCV\n",
    "from sklearn.utils import shuffle\n",
    "\n",
    "# Prepare data\n",
    "df = pd.read_csv(\n",
    "    'data/dataset_3.csv', \n",
    "    dtype={\n",
    "        'V1': float, \n",
    "        'V2': float,\n",
    "        'V3': float,\n",
    "        'V4': float,\n",
    "        'V5': float,\n",
    "        'V6': float,\n",
    "        'target': int\n",
    "        }\n",
    "    )\n",
    "df = shuffle(df)\n",
    "\n",
    "X = []\n",
    "y = []\n",
    "\n",
    "for row in df.iterrows():\n",
    "    i1 = row[1]['V1']\n",
    "    i2 = row[1]['V2']\n",
    "    i3 = row[1]['V3']\n",
    "    i4 = row[1]['V4']\n",
    "    i5 = row[1]['V5']\n",
    "    i6 = row[1]['V6']\n",
    "    o = row[1]['target']\n",
    "    \n",
    "    X.append([i1, i2, i3, i4, i5, i6])\n",
    "    y.append(o)\n",
    "    \n",
    "split_ratio = 0.8\n",
    "X_split_index = int(len(X) * split_ratio)\n",
    "y_split_index = int(len(y) * split_ratio)\n",
    "\n",
    "X_train = X[:X_split_index]     # First 80% of the data\n",
    "y_train = y[:y_split_index]     # First 80% of the labels\n",
    "X_test = X[X_split_index:]      # Remaining 20% of the data\n",
    "y_test = y[y_split_index:]      # Remaining 20% of the labels\n",
    "\n",
    "# Create a Random Forest Classifier\n",
    "rf = RandomForestClassifier(n_estimators=100, random_state=42)\n",
    "\n",
    "# Create the parameter grid based on the results of random search \n",
    "param_grid = {\n",
    "    'bootstrap': [True],\n",
    "    'max_depth': [80, 90, 100, 110],\n",
    "    'max_features': [2, 3],\n",
    "    'min_samples_leaf': [3, 4, 5],\n",
    "    'min_samples_split': [8, 10, 12],\n",
    "    'n_estimators': [100, 200, 300, 1000]\n",
    "}\n",
    "\n",
    "cv = GridSearchCV(estimator = rf, param_grid = param_grid,\n",
    "                  cv = 3, n_jobs = -1)\n",
    "cv.fit(X_train, y_train)\n",
    "y_pred = cv.predict(X_test)\n",
    "accuracy = accuracy_score(y_test, y_pred)\n",
    "print(f'Accuracy: {accuracy}')\n",
    "\n",
    "cm = confusion_matrix(y_test, y_pred)\n",
    "disp = ConfusionMatrixDisplay(confusion_matrix=cm, display_labels=[0, 1])\n",
    "disp.plot(cmap=plt.cm.Blues)\n",
    "plt.title('Confusion Matrix')\n",
    "plt.show()\n"
   ],
   "outputs": [
    {
     "name": "stdout",
     "output_type": "stream",
     "text": [
      "Accuracy: 0.985\n"
     ]
    },
    {
     "data": {
      "text/plain": [
       "<Figure size 640x480 with 2 Axes>"
      ],
      "image/png": "[encoded data removed]"
     },
     "metadata": {},
     "output_type": "display_data"
    }
   ],
   "execution_count": 3
  },
  {
   "metadata": {},
   "cell_type": "markdown",
   "source": ""
  }
 ],
 "metadata": {
  "kernelspec": {
   "display_name": "biocomputation-ZagujC0E-py3.11",
   "language": "python",
   "name": "python3"
  },
  "language_info": {
   "codemirror_mode": {
    "name": "ipython",
    "version": 3
   },
   "file_extension": ".py",
   "mimetype": "text/x-python",
   "name": "python",
   "nbconvert_exporter": "python",
   "pygments_lexer": "ipython3",
   "version": "3.11.5"
  }
 },
 "nbformat": 4,
 "nbformat_minor": 2
}
